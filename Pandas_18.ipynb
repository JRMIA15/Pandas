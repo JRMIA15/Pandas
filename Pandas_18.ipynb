{
 "cells": [
  {
   "cell_type": "markdown",
   "id": "3723a89e-3983-42d1-972f-65c8d3fc9a7d",
   "metadata": {},
   "source": [
    "# 18 Membentuk dummy Data Frame"
   ]
  },
  {
   "cell_type": "markdown",
   "id": "80040eff-65c8-47bb-81dd-54d99968c343",
   "metadata": {},
   "source": [
    "## Import Modules"
   ]
  },
  {
   "cell_type": "code",
   "execution_count": 1,
   "id": "8a729da1-d81b-48d2-b767-3b156bad900d",
   "metadata": {},
   "outputs": [
    {
     "name": "stdout",
     "output_type": "stream",
     "text": [
      "2.0.3\n",
      "1.24.3\n"
     ]
    }
   ],
   "source": [
    "import pandas as pd\n",
    "import numpy as np\n",
    "\n",
    "print(pd.__version__)\n",
    "print(np.__version__)"
   ]
  },
  {
   "cell_type": "markdown",
   "id": "650353ac-e24c-4875-bde5-cffae18a799a",
   "metadata": {},
   "source": [
    "## Membentuk Data Frame dari Dictionary"
   ]
  },
  {
   "cell_type": "code",
   "execution_count": 2,
   "id": "afb0826a-42ad-4428-b487-d365afbcf666",
   "metadata": {},
   "outputs": [
    {
     "data": {
      "text/html": [
       "<div>\n",
       "<style scoped>\n",
       "    .dataframe tbody tr th:only-of-type {\n",
       "        vertical-align: middle;\n",
       "    }\n",
       "\n",
       "    .dataframe tbody tr th {\n",
       "        vertical-align: top;\n",
       "    }\n",
       "\n",
       "    .dataframe thead th {\n",
       "        text-align: right;\n",
       "    }\n",
       "</style>\n",
       "<table border=\"1\" class=\"dataframe\">\n",
       "  <thead>\n",
       "    <tr style=\"text-align: right;\">\n",
       "      <th></th>\n",
       "      <th>col1</th>\n",
       "      <th>col2</th>\n",
       "    </tr>\n",
       "  </thead>\n",
       "  <tbody>\n",
       "    <tr>\n",
       "      <th>0</th>\n",
       "      <td>1</td>\n",
       "      <td>5</td>\n",
       "    </tr>\n",
       "    <tr>\n",
       "      <th>1</th>\n",
       "      <td>2</td>\n",
       "      <td>6</td>\n",
       "    </tr>\n",
       "    <tr>\n",
       "      <th>2</th>\n",
       "      <td>3</td>\n",
       "      <td>7</td>\n",
       "    </tr>\n",
       "    <tr>\n",
       "      <th>3</th>\n",
       "      <td>4</td>\n",
       "      <td>8</td>\n",
       "    </tr>\n",
       "  </tbody>\n",
       "</table>\n",
       "</div>"
      ],
      "text/plain": [
       "   col1  col2\n",
       "0     1     5\n",
       "1     2     6\n",
       "2     3     7\n",
       "3     4     8"
      ]
     },
     "execution_count": 2,
     "metadata": {},
     "output_type": "execute_result"
    }
   ],
   "source": [
    "pd.DataFrame({'col1':[1, 2, 3, 4], \n",
    "              'col2':[5, 6, 7, 8]})"
   ]
  },
  {
   "cell_type": "markdown",
   "id": "a8813436-b9e0-40a2-bea0-3ffa44eec102",
   "metadata": {},
   "source": [
    "## Membentuk Data Frame dari Numpy Array"
   ]
  },
  {
   "cell_type": "code",
   "execution_count": 3,
   "id": "8faca22c-f47a-4654-8d86-214d40a34e41",
   "metadata": {},
   "outputs": [
    {
     "data": {
      "text/plain": [
       "array([[ 8, 15,  6],\n",
       "       [19,  4, 13],\n",
       "       [ 9,  3, 14],\n",
       "       [18, 18,  1],\n",
       "       [13, 18,  4]])"
      ]
     },
     "execution_count": 3,
     "metadata": {},
     "output_type": "execute_result"
    }
   ],
   "source": [
    "n_rows = 5\n",
    "n_cols = 3\n",
    "\n",
    "arr = np.random.randint(1, 20, size=(n_rows, n_cols))\n",
    "arr"
   ]
  },
  {
   "cell_type": "code",
   "execution_count": 4,
   "id": "d3e09ad9-fca6-472f-b410-99eb2cea27ef",
   "metadata": {},
   "outputs": [
    {
     "data": {
      "text/html": [
       "<div>\n",
       "<style scoped>\n",
       "    .dataframe tbody tr th:only-of-type {\n",
       "        vertical-align: middle;\n",
       "    }\n",
       "\n",
       "    .dataframe tbody tr th {\n",
       "        vertical-align: top;\n",
       "    }\n",
       "\n",
       "    .dataframe thead th {\n",
       "        text-align: right;\n",
       "    }\n",
       "</style>\n",
       "<table border=\"1\" class=\"dataframe\">\n",
       "  <thead>\n",
       "    <tr style=\"text-align: right;\">\n",
       "      <th></th>\n",
       "      <th>A</th>\n",
       "      <th>B</th>\n",
       "      <th>C</th>\n",
       "    </tr>\n",
       "  </thead>\n",
       "  <tbody>\n",
       "    <tr>\n",
       "      <th>0</th>\n",
       "      <td>8</td>\n",
       "      <td>15</td>\n",
       "      <td>6</td>\n",
       "    </tr>\n",
       "    <tr>\n",
       "      <th>1</th>\n",
       "      <td>19</td>\n",
       "      <td>4</td>\n",
       "      <td>13</td>\n",
       "    </tr>\n",
       "    <tr>\n",
       "      <th>2</th>\n",
       "      <td>9</td>\n",
       "      <td>3</td>\n",
       "      <td>14</td>\n",
       "    </tr>\n",
       "    <tr>\n",
       "      <th>3</th>\n",
       "      <td>18</td>\n",
       "      <td>18</td>\n",
       "      <td>1</td>\n",
       "    </tr>\n",
       "    <tr>\n",
       "      <th>4</th>\n",
       "      <td>13</td>\n",
       "      <td>18</td>\n",
       "      <td>4</td>\n",
       "    </tr>\n",
       "  </tbody>\n",
       "</table>\n",
       "</div>"
      ],
      "text/plain": [
       "    A   B   C\n",
       "0   8  15   6\n",
       "1  19   4  13\n",
       "2   9   3  14\n",
       "3  18  18   1\n",
       "4  13  18   4"
      ]
     },
     "execution_count": 4,
     "metadata": {},
     "output_type": "execute_result"
    }
   ],
   "source": [
    "pd.DataFrame(arr, columns=tuple('ABC'))"
   ]
  },
  {
   "cell_type": "markdown",
   "id": "3fed2348-5d75-487d-b6a6-ce5da16fd2a6",
   "metadata": {},
   "source": [
    "## Membentuk Data Frame dengan memanfaatkan `pandas.util.testing`"
   ]
  },
  {
   "cell_type": "code",
   "execution_count": 5,
   "id": "31593eed-c089-4e87-a5bf-dde015a7e7c9",
   "metadata": {},
   "outputs": [
    {
     "name": "stdout",
     "output_type": "stream",
     "text": [
      "          A         B         C         D\n",
      "0  0.585376  0.384226  0.643786  0.118725\n",
      "1 -3.437314 -0.347284 -0.230410  0.733833\n",
      "2 -0.428955  0.810872  0.722149  0.757980\n",
      "3  0.401782  0.019526  0.025861 -1.704732\n",
      "4 -0.226046  0.614207 -0.190959 -0.490927\n"
     ]
    }
   ],
   "source": [
    "n_rows = 30 \n",
    "n_cols = 4 \n",
    "columns = list('ABCD')\n",
    "\n",
    "data = np.random.randn(n_rows, n_cols)\n",
    "\n",
    "df = pd.DataFrame(data, columns=columns)\n",
    "\n",
    "print(df.head())"
   ]
  },
  {
   "cell_type": "code",
   "execution_count": 6,
   "id": "2dde91d0-49c2-4ca8-9e2a-62cfa532dfe8",
   "metadata": {},
   "outputs": [
    {
     "name": "stdout",
     "output_type": "stream",
     "text": [
      "          A  B          C     D\n",
      "0 -1.029561  1 2024-01-01   foo\n",
      "1 -0.660607  2 2024-01-02   bar\n",
      "2  2.173160  3 2024-01-03   baz\n",
      "3 -0.564128  4 2024-01-04   qux\n",
      "4 -0.985320  5 2024-01-05  quux\n"
     ]
    }
   ],
   "source": [
    "n_rows = 5 \n",
    "\n",
    "data = {\n",
    "    'A': np.random.randn(n_rows),                 \n",
    "    'B': np.arange(1, n_rows + 1),                \n",
    "    'C': pd.date_range('2024-01-01', periods=n_rows), \n",
    "    'D': ['foo', 'bar', 'baz', 'qux', 'quux']    \n",
    "}\n",
    "\n",
    "df = pd.DataFrame(data)\n",
    "\n",
    "print(df.head())"
   ]
  },
  {
   "cell_type": "code",
   "execution_count": 7,
   "id": "780732d7-17b9-4a85-9040-6c7bb70a9158",
   "metadata": {},
   "outputs": [
    {
     "name": "stdout",
     "output_type": "stream",
     "text": [
      "                   A         B         C         D\n",
      "2024-01-01  1.442427 -1.146125  1.558044  1.181292\n",
      "2024-01-02  0.498824  1.463656  0.170715 -1.049586\n",
      "2024-01-03  0.096653 -0.439667 -0.346040 -0.798105\n",
      "2024-01-04  0.091536 -0.019942  0.505150  1.152660\n",
      "2024-01-05 -0.551434 -1.087782 -0.973029 -0.851291\n"
     ]
    }
   ],
   "source": [
    "n_rows = 30  \n",
    "n_cols = 4   \n",
    "columns = list('ABCD')  \n",
    "\n",
    "time_index = pd.date_range(start='2024-01-01', periods=n_rows, freq='D')  \n",
    "\n",
    "df = pd.DataFrame(np.random.randn(n_rows, n_cols), index=time_index, columns=columns)\n",
    "\n",
    "print(df.head())"
   ]
  },
  {
   "cell_type": "code",
   "execution_count": 8,
   "id": "788cbfbb-ab5a-4f11-9dcf-52f809043954",
   "metadata": {},
   "outputs": [
    {
     "name": "stdout",
     "output_type": "stream",
     "text": [
      "          A         B         C         D\n",
      "0 -0.839417       NaN  0.408062 -0.465424\n",
      "1  1.775533  0.491389  0.570183  0.255559\n",
      "2 -1.286709  0.258850  0.559066       NaN\n",
      "3 -0.795333 -1.421308 -0.150433 -0.664690\n",
      "4       NaN -1.688269  0.364200  0.097154\n"
     ]
    }
   ],
   "source": [
    "n_rows = 5\n",
    "n_cols = 4\n",
    "\n",
    "data = np.random.randn(n_rows, n_cols)\n",
    "\n",
    "df = pd.DataFrame(data, columns=list('ABCD'))\n",
    "\n",
    "df.iloc[0, 1] = np.nan\n",
    "df.iloc[2, 3] = np.nan\n",
    "df.iloc[4, 0] = np.nan\n",
    "\n",
    "print(df.head())"
   ]
  }
 ],
 "metadata": {
  "kernelspec": {
   "display_name": "Python 3 (ipykernel)",
   "language": "python",
   "name": "python3"
  },
  "language_info": {
   "codemirror_mode": {
    "name": "ipython",
    "version": 3
   },
   "file_extension": ".py",
   "mimetype": "text/x-python",
   "name": "python",
   "nbconvert_exporter": "python",
   "pygments_lexer": "ipython3",
   "version": "3.11.5"
  }
 },
 "nbformat": 4,
 "nbformat_minor": 5
}
